{
 "cells": [
  {
   "cell_type": "code",
   "execution_count": 17,
   "metadata": {},
   "outputs": [
    {
     "name": "stdout",
     "output_type": "stream",
     "text": [
      "Ask any question about Promtior. Type 'exit' to end the chat.\n",
      "AI: I'm sorry, but your question is unclear. Could you please provide more information or context?\n",
      "\n",
      "Ending the chat. Goodbye!\n"
     ]
    }
   ],
   "source": [
    "import getpass\n",
    "import os\n",
    "import requests\n",
    "import tempfile\n",
    "from langchain_community.document_loaders import PyMuPDFLoader\n",
    "from langchain.chains import create_retrieval_chain\n",
    "from langchain.chains.combine_documents import create_stuff_documents_chain\n",
    "from langchain.memory import ConversationBufferMemory\n",
    "from langchain_core.prompts import ChatPromptTemplate\n",
    "from langchain_core.vectorstores import InMemoryVectorStore\n",
    "from langchain_openai import OpenAIEmbeddings\n",
    "from langchain_text_splitters import RecursiveCharacterTextSplitter\n",
    "from langchain_openai import ChatOpenAI\n",
    "\n",
    "if not os.environ.get(\"OPENAI_API_KEY\"):\n",
    "    os.environ[\"OPENAI_API_KEY\"] = getpass.getpass(\"Enter OpenAI API Key: \")\n",
    "\n",
    "if not os.environ.get(\"LANGCHAIN_API_KEY\"):\n",
    "    os.environ[\"LANGCHAIN_API_KEY\"] = getpass.getpass(\"Enter LangChain API Key: \")\n",
    "\n",
    "llm = ChatOpenAI(model=\"gpt-4\", temperature=0)\n",
    "\n",
    "pdf_url = \"https://chatbotpdfdocumentation.s3.us-east-1.amazonaws.com/AI+Engineer.pdf\"\n",
    "\n",
    "with tempfile.NamedTemporaryFile(suffix=\".pdf\", delete=False) as temp_pdf:\n",
    "    response = requests.get(pdf_url)\n",
    "    temp_pdf.write(response.content)\n",
    "    temp_pdf_path = temp_pdf.name\n",
    "\n",
    "loader = PyMuPDFLoader(temp_pdf_path)\n",
    "docs = loader.load()\n",
    "\n",
    "text_splitter = RecursiveCharacterTextSplitter(chunk_size=1000, chunk_overlap=200)\n",
    "splits = text_splitter.split_documents(docs)\n",
    "\n",
    "vectorstore = InMemoryVectorStore.from_documents(documents=splits, embedding=OpenAIEmbeddings())\n",
    "retriever = vectorstore.as_retriever()\n",
    "\n",
    "memory = ConversationBufferMemory(memory_key=\"chat_history\", return_messages=True)\n",
    "\n",
    "system_prompt = (\n",
    "    \"You are an AI assistant that provides concise and accurate answers about Promtior. \"\n",
    "    \"Use the retrieved context to answer the question. If you don't know the answer, say that you don't know.\"\n",
    "    \"\\n\\n\"\n",
    "    \"{context}\"\n",
    ")\n",
    "\n",
    "prompt = ChatPromptTemplate.from_messages(\n",
    "    [\n",
    "        (\"system\", system_prompt),\n",
    "        (\"human\", \"{input}\"),\n",
    "    ]\n",
    ")\n",
    "\n",
    "question_answer_chain = create_stuff_documents_chain(llm, prompt)\n",
    "\n",
    "rag_chain = create_retrieval_chain(retriever, question_answer_chain)\n",
    "\n",
    "print(\"Ask any question about Promtior. Type 'exit' to end the chat.\")\n",
    "\n",
    "while True:\n",
    "    user_question = input(\"You: \")\n",
    "    if user_question.lower() == 'exit':\n",
    "        print(\"Ending the chat. Goodbye!\")\n",
    "        break\n",
    "\n",
    "    response = rag_chain.invoke({\"input\": user_question})\n",
    "    print(f\"AI: {response['answer']}\\n\")\n"
   ]
  }
 ],
 "metadata": {
  "kernelspec": {
   "display_name": ".venv",
   "language": "python",
   "name": "python3"
  },
  "language_info": {
   "codemirror_mode": {
    "name": "ipython",
    "version": 3
   },
   "file_extension": ".py",
   "mimetype": "text/x-python",
   "name": "python",
   "nbconvert_exporter": "python",
   "pygments_lexer": "ipython3",
   "version": "3.12.5"
  }
 },
 "nbformat": 4,
 "nbformat_minor": 2
}
